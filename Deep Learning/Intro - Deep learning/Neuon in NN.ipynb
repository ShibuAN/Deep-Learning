{
 "cells": [
  {
   "cell_type": "code",
   "execution_count": 16,
   "id": "44e5a8c6",
   "metadata": {},
   "outputs": [],
   "source": [
    "x = [1, 2, 3, 4, 5]"
   ]
  },
  {
   "cell_type": "code",
   "execution_count": 17,
   "id": "5addd51f",
   "metadata": {},
   "outputs": [],
   "source": [
    "y = [2, 4, 6 ,8 ,10]"
   ]
  },
  {
   "cell_type": "code",
   "execution_count": 18,
   "id": "f34ed138",
   "metadata": {},
   "outputs": [
    {
     "name": "stdout",
     "output_type": "stream",
     "text": [
      "1\n",
      "2\n",
      "3\n",
      "4\n",
      "5\n"
     ]
    }
   ],
   "source": [
    "for i in x:\n",
    "    print(i)"
   ]
  },
  {
   "cell_type": "code",
   "execution_count": 19,
   "id": "77ad76bd",
   "metadata": {},
   "outputs": [],
   "source": [
    "# input * weight"
   ]
  },
  {
   "cell_type": "code",
   "execution_count": 20,
   "id": "5fef04c4",
   "metadata": {},
   "outputs": [],
   "source": [
    "w = 0.1\n",
    "lr = 0.1"
   ]
  },
  {
   "cell_type": "code",
   "execution_count": 21,
   "id": "47f93eb7",
   "metadata": {},
   "outputs": [],
   "source": [
    "def predict(i):\n",
    "    return w * i"
   ]
  },
  {
   "cell_type": "code",
   "execution_count": 22,
   "id": "fcfc568b",
   "metadata": {},
   "outputs": [],
   "source": [
    "pred = [ predict(i) for i in x]"
   ]
  },
  {
   "cell_type": "code",
   "execution_count": 23,
   "id": "2794de78",
   "metadata": {},
   "outputs": [
    {
     "name": "stdout",
     "output_type": "stream",
     "text": [
      "[0.1, 0.2, 0.30000000000000004, 0.4, 0.5]\n"
     ]
    }
   ],
   "source": [
    "print(pred)"
   ]
  },
  {
   "cell_type": "code",
   "execution_count": 24,
   "id": "8d1132fe",
   "metadata": {},
   "outputs": [],
   "source": [
    "error = [ t - p for t , p in zip(y, pred)]"
   ]
  },
  {
   "cell_type": "code",
   "execution_count": 25,
   "id": "13608b6a",
   "metadata": {},
   "outputs": [
    {
     "name": "stdout",
     "output_type": "stream",
     "text": [
      "[1.9, 3.8, 5.7, 7.6, 9.5]\n"
     ]
    }
   ],
   "source": [
    "print(error)"
   ]
  },
  {
   "cell_type": "code",
   "execution_count": 26,
   "id": "d48a1d08",
   "metadata": {},
   "outputs": [],
   "source": [
    "cost = sum(error) / len(y)"
   ]
  },
  {
   "cell_type": "code",
   "execution_count": 27,
   "id": "2d4e3720",
   "metadata": {},
   "outputs": [
    {
     "name": "stdout",
     "output_type": "stream",
     "text": [
      "5.7\n"
     ]
    }
   ],
   "source": [
    "print(cost)"
   ]
  },
  {
   "cell_type": "code",
   "execution_count": 28,
   "id": "00554ac5",
   "metadata": {},
   "outputs": [
    {
     "name": "stdout",
     "output_type": "stream",
     "text": [
      "weight0.67, cost:5.70\n",
      "weight1.07, cost:3.99\n",
      "weight1.35, cost:2.79\n",
      "weight1.54, cost:1.96\n",
      "weight1.68, cost:1.37\n",
      "weight1.78, cost:0.96\n",
      "weight1.84, cost:0.67\n",
      "weight1.89, cost:0.47\n",
      "weight1.92, cost:0.33\n",
      "weight1.95, cost:0.23\n",
      "weight1.96, cost:0.16\n",
      "weight1.97, cost:0.11\n",
      "weight1.98, cost:0.08\n",
      "weight1.99, cost:0.06\n",
      "weight1.99, cost:0.04\n",
      "weight1.99, cost:0.03\n",
      "weight2.00, cost:0.02\n",
      "weight2.00, cost:0.01\n",
      "weight2.00, cost:0.01\n",
      "weight2.00, cost:0.01\n",
      "weight2.00, cost:0.00\n",
      "weight2.00, cost:0.00\n",
      "weight2.00, cost:0.00\n",
      "weight2.00, cost:0.00\n",
      "weight2.00, cost:0.00\n",
      "weight2.00, cost:0.00\n",
      "weight2.00, cost:0.00\n",
      "weight2.00, cost:0.00\n",
      "weight2.00, cost:0.00\n",
      "weight2.00, cost:0.00\n"
     ]
    }
   ],
   "source": [
    "for _ in range(30):\n",
    "    pred = [ predict(i) for i in x]\n",
    "    error = [ t - p for t, p in zip( y, pred)]\n",
    "    cost = sum(error)/ len(y)\n",
    "    w += cost * lr\n",
    "    print(f\"weight{w:.2f}, cost:{cost:.2f}\")"
   ]
  },
  {
   "cell_type": "code",
   "execution_count": 29,
   "id": "23b0e3ca",
   "metadata": {},
   "outputs": [
    {
     "data": {
      "text/plain": [
       "11.999743051520687"
      ]
     },
     "execution_count": 29,
     "metadata": {},
     "output_type": "execute_result"
    }
   ],
   "source": [
    "predict(6)"
   ]
  },
  {
   "cell_type": "code",
   "execution_count": null,
   "id": "2d0dbd64",
   "metadata": {},
   "outputs": [],
   "source": []
  }
 ],
 "metadata": {
  "kernelspec": {
   "display_name": "Python 3 (ipykernel)",
   "language": "python",
   "name": "python3"
  },
  "language_info": {
   "codemirror_mode": {
    "name": "ipython",
    "version": 3
   },
   "file_extension": ".py",
   "mimetype": "text/x-python",
   "name": "python",
   "nbconvert_exporter": "python",
   "pygments_lexer": "ipython3",
   "version": "3.11.5"
  }
 },
 "nbformat": 4,
 "nbformat_minor": 5
}
