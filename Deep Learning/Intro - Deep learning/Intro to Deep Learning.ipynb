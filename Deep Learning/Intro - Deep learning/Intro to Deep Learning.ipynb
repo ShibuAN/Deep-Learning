{
 "cells": [
  {
   "cell_type": "code",
   "execution_count": 31,
   "id": "6347e505-a4aa-4733-bad6-d6ec89cc3bf9",
   "metadata": {},
   "outputs": [],
   "source": [
    "import numpy as np\n",
    "import pandas as pd\n",
    "import matplotlib.pyplot as plt\n",
    "import seaborn as sns\n",
    "sns.set()\n",
    "%matplotlib inline\n",
    "from scipy import optimize\n",
    "from ipywidgets import *\n",
    "from IPython.display import SVG\n",
    "from sklearn import datasets"
   ]
  },
  {
   "cell_type": "code",
   "execution_count": 32,
   "id": "1a5c8c9d-7027-4459-9d51-6e731f460ea8",
   "metadata": {},
   "outputs": [
    {
     "data": {
      "text/html": [
       "<div>\n",
       "<style scoped>\n",
       "    .dataframe tbody tr th:only-of-type {\n",
       "        vertical-align: middle;\n",
       "    }\n",
       "\n",
       "    .dataframe tbody tr th {\n",
       "        vertical-align: top;\n",
       "    }\n",
       "\n",
       "    .dataframe thead th {\n",
       "        text-align: right;\n",
       "    }\n",
       "</style>\n",
       "<table border=\"1\" class=\"dataframe\">\n",
       "  <thead>\n",
       "    <tr style=\"text-align: right;\">\n",
       "      <th></th>\n",
       "      <th>x1</th>\n",
       "      <th>x2</th>\n",
       "      <th>y</th>\n",
       "    </tr>\n",
       "  </thead>\n",
       "  <tbody>\n",
       "    <tr>\n",
       "      <th>0</th>\n",
       "      <td>0</td>\n",
       "      <td>0</td>\n",
       "      <td>0</td>\n",
       "    </tr>\n",
       "    <tr>\n",
       "      <th>1</th>\n",
       "      <td>0</td>\n",
       "      <td>1</td>\n",
       "      <td>0</td>\n",
       "    </tr>\n",
       "    <tr>\n",
       "      <th>2</th>\n",
       "      <td>1</td>\n",
       "      <td>0</td>\n",
       "      <td>0</td>\n",
       "    </tr>\n",
       "    <tr>\n",
       "      <th>3</th>\n",
       "      <td>1</td>\n",
       "      <td>1</td>\n",
       "      <td>1</td>\n",
       "    </tr>\n",
       "  </tbody>\n",
       "</table>\n",
       "</div>"
      ],
      "text/plain": [
       "   x1  x2  y\n",
       "0   0   0  0\n",
       "1   0   1  0\n",
       "2   1   0  0\n",
       "3   1   1  1"
      ]
     },
     "execution_count": 32,
     "metadata": {},
     "output_type": "execute_result"
    }
   ],
   "source": [
    "AND=pd.DataFrame({\"x1\":(0,0,1,1),\"x2\":(0,1,0,1),\"y\":(0,0,0,1)})\n",
    "AND"
   ]
  },
  {
   "cell_type": "markdown",
   "id": "f4817862-48a5-445e-baac-d1bdb2bc4174",
   "metadata": {},
   "source": [
    "First,we need to initalize weights to small,random values(can be postive and negative)."
   ]
  },
  {
   "cell_type": "code",
   "execution_count": 33,
   "id": "bbb7ffa4-e1e6-4fbf-a73f-90317f2fa8b8",
   "metadata": {},
   "outputs": [],
   "source": [
    "w=np.random.randn(3)*1e-4"
   ]
  },
  {
   "cell_type": "markdown",
   "id": "8c447d36-fd27-43b9-bf7b-f74db5568481",
   "metadata": {},
   "source": [
    "Then,a simple activation fn for calculation g(h):"
   ]
  },
  {
   "cell_type": "code",
   "execution_count": 46,
   "id": "86d0cf23-28f9-4f41-8e5c-af7a2992e6bf",
   "metadata": {},
   "outputs": [],
   "source": [
    "g=lambda inputs,weights:np.where(np.dot(inputs,weights)>0,1,0)"
   ]
  },
  {
   "cell_type": "markdown",
   "id": "b7486885-abf3-402f-b6ed-cd1b24abd978",
   "metadata": {},
   "source": [
    "Finally, a training fn that iterates the learning algorithem, returning the adapted weights."
   ]
  },
  {
   "cell_type": "code",
   "execution_count": 43,
   "id": "360ad52b-5c50-46e7-a6db-0ea0e1e24689",
   "metadata": {},
   "outputs": [],
   "source": [
    "def train(inputs,targets,weights,eta,n_iterations):\n",
    "    #Add the inputs that match the bias node\n",
    "    inputs=np.c_[inputs,-np.ones((len(inputs),1))]\n",
    "\n",
    "    for n in range(n_iterations):\n",
    "\n",
    "        activations=g(inputs,weights);\n",
    "        print(n,activations)\n",
    "        weights-=eta*np.dot(np.transpose(inputs),activations - targets)\n",
    "        print(n,weights)\n",
    "\n",
    "    return(weights)"
   ]
  },
  {
   "cell_type": "markdown",
   "id": "4dbfa420-7309-49d9-9f4c-42de849d57aa",
   "metadata": {},
   "source": [
    "Let's test it first on the AND Fn"
   ]
  },
  {
   "cell_type": "code",
   "execution_count": 44,
   "id": "4bc1af67-7b8d-4dbc-bab2-c7ca56ea8ac2",
   "metadata": {},
   "outputs": [
    {
     "name": "stdout",
     "output_type": "stream",
     "text": [
      "0 [0 1 1 1]\n",
      "0 [0.24993901 0.24977417 0.50017414]\n",
      "1 [0 0 0 0]\n",
      "1 [0.49993901 0.49977417 0.25017414]\n",
      "2 [0 1 1 1]\n",
      "2 [0.24993901 0.24977417 0.75017414]\n",
      "3 [0 0 0 0]\n",
      "3 [0.49993901 0.49977417 0.50017414]\n",
      "4 [0 0 0 1]\n",
      "4 [0.49993901 0.49977417 0.50017414]\n",
      "5 [0 0 0 1]\n",
      "5 [0.49993901 0.49977417 0.50017414]\n",
      "6 [0 0 0 1]\n",
      "6 [0.49993901 0.49977417 0.50017414]\n",
      "7 [0 0 0 1]\n",
      "7 [0.49993901 0.49977417 0.50017414]\n",
      "8 [0 0 0 1]\n",
      "8 [0.49993901 0.49977417 0.50017414]\n",
      "9 [0 0 0 1]\n",
      "9 [0.49993901 0.49977417 0.50017414]\n"
     ]
    }
   ],
   "source": [
    "inputs=AND[[\"x1\",\"x2\"]]\n",
    "target=AND[\"y\"]\n",
    "\n",
    "w = train(inputs,target,w,0.25,10)"
   ]
  },
  {
   "cell_type": "markdown",
   "id": "ffb21d72-8be1-46cb-9084-8422cde81e12",
   "metadata": {},
   "source": [
    "Checking the Performance:"
   ]
  },
  {
   "cell_type": "code",
   "execution_count": 37,
   "id": "518bc121-64e5-40e3-b205-40a8379dd1d9",
   "metadata": {},
   "outputs": [
    {
     "data": {
      "text/plain": [
       "array([0, 0, 0, 1])"
      ]
     },
     "execution_count": 37,
     "metadata": {},
     "output_type": "execute_result"
    }
   ],
   "source": [
    "g(np.c_[inputs,-np.ones((len(inputs),1))],w)"
   ]
  },
  {
   "cell_type": "markdown",
   "id": "ae3b1ff3-da34-4049-aaa3-4b72b884ab22",
   "metadata": {},
   "source": [
    "Thus,it has learned the fn perfectly.Now for OR:"
   ]
  },
  {
   "cell_type": "code",
   "execution_count": 38,
   "id": "7f3b42c9-7988-4998-946a-2ab76e637dd6",
   "metadata": {},
   "outputs": [
    {
     "data": {
      "text/html": [
       "<div>\n",
       "<style scoped>\n",
       "    .dataframe tbody tr th:only-of-type {\n",
       "        vertical-align: middle;\n",
       "    }\n",
       "\n",
       "    .dataframe tbody tr th {\n",
       "        vertical-align: top;\n",
       "    }\n",
       "\n",
       "    .dataframe thead th {\n",
       "        text-align: right;\n",
       "    }\n",
       "</style>\n",
       "<table border=\"1\" class=\"dataframe\">\n",
       "  <thead>\n",
       "    <tr style=\"text-align: right;\">\n",
       "      <th></th>\n",
       "      <th>x1</th>\n",
       "      <th>x2</th>\n",
       "      <th>y</th>\n",
       "    </tr>\n",
       "  </thead>\n",
       "  <tbody>\n",
       "    <tr>\n",
       "      <th>0</th>\n",
       "      <td>0</td>\n",
       "      <td>0</td>\n",
       "      <td>0</td>\n",
       "    </tr>\n",
       "    <tr>\n",
       "      <th>1</th>\n",
       "      <td>0</td>\n",
       "      <td>1</td>\n",
       "      <td>1</td>\n",
       "    </tr>\n",
       "    <tr>\n",
       "      <th>2</th>\n",
       "      <td>1</td>\n",
       "      <td>0</td>\n",
       "      <td>1</td>\n",
       "    </tr>\n",
       "    <tr>\n",
       "      <th>3</th>\n",
       "      <td>1</td>\n",
       "      <td>1</td>\n",
       "      <td>1</td>\n",
       "    </tr>\n",
       "  </tbody>\n",
       "</table>\n",
       "</div>"
      ],
      "text/plain": [
       "   x1  x2  y\n",
       "0   0   0  0\n",
       "1   0   1  1\n",
       "2   1   0  1\n",
       "3   1   1  1"
      ]
     },
     "execution_count": 38,
     "metadata": {},
     "output_type": "execute_result"
    }
   ],
   "source": [
    "OR=pd.DataFrame({\"x1\":(0,0,1,1),\"x2\":(0,1,0,1),\"y\":(0,1,1,1)})\n",
    "OR"
   ]
  },
  {
   "cell_type": "code",
   "execution_count": 39,
   "id": "b80e4709-d1e2-48e4-ae66-bb7d8ec2d2c4",
   "metadata": {},
   "outputs": [],
   "source": [
    "w=np.random.randn(3)*1e-4"
   ]
  },
  {
   "cell_type": "code",
   "execution_count": 40,
   "id": "a0aabc53-3b9a-4658-a450-645bd92f6f05",
   "metadata": {},
   "outputs": [],
   "source": [
    "inputs = OR[[\"x1\",\"x2\"]]\n",
    "target = OR[\"y\"]"
   ]
  },
  {
   "cell_type": "code",
   "execution_count": 41,
   "id": "3ce75e5a-b9eb-4195-a465-09121ec2bcd2",
   "metadata": {},
   "outputs": [],
   "source": [
    "w=train(inputs,target,w,0.25,20)"
   ]
  },
  {
   "cell_type": "code",
   "execution_count": 42,
   "id": "b8638a79-3b6e-46f9-9b5b-6cd3835b22f4",
   "metadata": {},
   "outputs": [
    {
     "data": {
      "text/plain": [
       "array([0, 1, 1, 1])"
      ]
     },
     "execution_count": 42,
     "metadata": {},
     "output_type": "execute_result"
    }
   ],
   "source": [
    "g(np.c_[inputs,-np.ones((len(inputs),1))],w)"
   ]
  },
  {
   "cell_type": "code",
   "execution_count": null,
   "id": "53ff9edd-f00b-4aae-8cb3-a27f4a80929e",
   "metadata": {},
   "outputs": [],
   "source": []
  }
 ],
 "metadata": {
  "kernelspec": {
   "display_name": "Python 3 (ipykernel)",
   "language": "python",
   "name": "python3"
  },
  "language_info": {
   "codemirror_mode": {
    "name": "ipython",
    "version": 3
   },
   "file_extension": ".py",
   "mimetype": "text/x-python",
   "name": "python",
   "nbconvert_exporter": "python",
   "pygments_lexer": "ipython3",
   "version": "3.7.2"
  }
 },
 "nbformat": 4,
 "nbformat_minor": 5
}
